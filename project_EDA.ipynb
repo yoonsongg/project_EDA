{
  "nbformat": 4,
  "nbformat_minor": 0,
  "metadata": {
    "colab": {
      "private_outputs": true,
      "provenance": [],
      "include_colab_link": true
    },
    "kernelspec": {
      "name": "python3",
      "display_name": "Python 3"
    },
    "language_info": {
      "name": "python"
    }
  },
  "cells": [
    {
      "cell_type": "markdown",
      "metadata": {
        "id": "view-in-github",
        "colab_type": "text"
      },
      "source": [
        "<a href=\"https://colab.research.google.com/github/yoonsongg/project_EDA/blob/main/project_EDA.ipynb\" target=\"_parent\"><img src=\"https://colab.research.google.com/assets/colab-badge.svg\" alt=\"Open In Colab\"/></a>"
      ]
    },
    {
      "cell_type": "code",
      "metadata": {
        "id": "cYFnPp9S8l4J"
      },
      "source": [
        "from google.colab import drive\n",
        "drive.mount('/content/drive')"
      ],
      "execution_count": null,
      "outputs": []
    },
    {
      "cell_type": "markdown",
      "metadata": {
        "id": "b4TZWpvjup-G"
      },
      "source": [
        "#다음 분기에 어떤 게임을 설계해야 할까"
      ]
    },
    {
      "cell_type": "code",
      "metadata": {
        "id": "gR8pHb1D86lk"
      },
      "source": [
        "import pandas as pd\n",
        "import numpy as np\n",
        "from scipy.stats import chisquare\n",
        "from scipy.stats import chi2_contingency\n",
        "import seaborn as sns\n",
        "import matplotlib.pyplot as plt"
      ],
      "execution_count": null,
      "outputs": []
    },
    {
      "cell_type": "code",
      "metadata": {
        "id": "w2_m5qzz8xnc"
      },
      "source": [
        "url = '/content/drive/MyDrive/AI_Bootcamp/Section1_Project_data/vgames2.csv'\n",
        "\n",
        "data = pd.read_csv(url, header = 0, index_col = 0)\n",
        "\n",
        "data.head(10)"
      ],
      "execution_count": null,
      "outputs": []
    },
    {
      "cell_type": "code",
      "metadata": {
        "id": "ZA8U6FTxcWCi"
      },
      "source": [
        "#결측치 제거\n",
        "data.isna().sum()\n",
        "df = data.dropna()"
      ],
      "execution_count": null,
      "outputs": []
    },
    {
      "cell_type": "code",
      "metadata": {
        "id": "MvuphHxkcdk6"
      },
      "source": [
        "data.shape"
      ],
      "execution_count": null,
      "outputs": []
    },
    {
      "cell_type": "code",
      "metadata": {
        "id": "JxleJw1bcaAF"
      },
      "source": [
        "df.shape"
      ],
      "execution_count": null,
      "outputs": []
    },
    {
      "cell_type": "code",
      "metadata": {
        "id": "es0O3opPccGH"
      },
      "source": [
        "df.Genre.value_counts()\n",
        "df.Genre.unique()"
      ],
      "execution_count": null,
      "outputs": []
    },
    {
      "cell_type": "code",
      "metadata": {
        "id": "RIWbLEiddVp_"
      },
      "source": [
        "# df.Publisher.value_counts()\n",
        "# df.Publisher.unique()"
      ],
      "execution_count": null,
      "outputs": []
    },
    {
      "cell_type": "code",
      "metadata": {
        "id": "CdDASBGTdc_Y"
      },
      "source": [
        "# df.EU_Sales.value_counts()\n",
        "# df.EU_Sales.unique()"
      ],
      "execution_count": null,
      "outputs": []
    },
    {
      "cell_type": "code",
      "metadata": {
        "id": "iHbCFSnRdh2R"
      },
      "source": [
        "# df.JP_Sales.value_counts()\n",
        "# df.JP_Sales.unique()"
      ],
      "execution_count": null,
      "outputs": []
    },
    {
      "cell_type": "code",
      "metadata": {
        "id": "aqMkq2rMd_dY"
      },
      "source": [
        "# df.Other_Sales.value_counts()\n",
        "# df.Other_Sales.unique()\n",
        "# df.Other_Sales.dtype"
      ],
      "execution_count": null,
      "outputs": []
    },
    {
      "cell_type": "code",
      "metadata": {
        "id": "fMG36H7jClhr"
      },
      "source": [
        "df['Year'] = df['Year'].astype(int)"
      ],
      "execution_count": null,
      "outputs": []
    },
    {
      "cell_type": "code",
      "metadata": {
        "id": "_tAtl7xI3H2z"
      },
      "source": [
        "#Year 전처리 필요\n",
        "#df.Year.value_counts().tail(50)\n",
        "\n",
        "condition  = df[df['Year'] < 100].index\n",
        "condition\n",
        "df.drop(condition, axis = 0, inplace = True)"
      ],
      "execution_count": null,
      "outputs": []
    },
    {
      "cell_type": "code",
      "metadata": {
        "id": "3FrSz6nVeH7Y"
      },
      "source": [
        "def str_replace(x):\n",
        "    if 'M' in x:\n",
        "        x = x.replace('M', '')\n",
        "        return float(x)\n",
        "    elif 'K' in x:\n",
        "        x = x.replace('K', '')\n",
        "        x = float(x)\n",
        "        return round(x / 1000, 2)\n",
        "    else:\n",
        "        return float(x)\n",
        "\n",
        "#type(str_replace('3.5M'))\n",
        "#str_replace('310K')\n",
        "df['NA_Sales'] = df['NA_Sales'].apply(lambda x : str_replace(x))\n",
        "df['EU_Sales'] = df['EU_Sales'].apply(lambda x : str_replace(x))\n",
        "df['JP_Sales'] = df['JP_Sales'].apply(lambda x : str_replace(x))\n",
        "df['Other_Sales'] = df['Other_Sales'].apply(lambda x : str_replace(x))\n"
      ],
      "execution_count": null,
      "outputs": []
    },
    {
      "cell_type": "code",
      "metadata": {
        "id": "M_mWe1lPByf7"
      },
      "source": [
        "df.Year.describe()"
      ],
      "execution_count": null,
      "outputs": []
    },
    {
      "cell_type": "code",
      "metadata": {
        "id": "OpkEFM-f-TQY"
      },
      "source": [
        "# Name            object\n",
        "# Platform        object\n",
        "# Year           float64\n",
        "# Genre           object\n",
        "# Publisher       object\n",
        "# NA_Sales       float64\n",
        "# EU_Sales       float64\n",
        "# JP_Sales       float64\n",
        "# Other_Sales    float64\n",
        "# dtype: object"
      ],
      "execution_count": null,
      "outputs": []
    },
    {
      "cell_type": "code",
      "metadata": {
        "id": "I3hiviiR-TTA"
      },
      "source": [
        "#여분 만들어놓기\n",
        "data3 = df\n",
        "data4 = df\n",
        "\n",
        "data4['total_Sales_notJP'] = df[['NA_Sales', 'EU_Sales', 'Other_Sales']].sum(axis = 1)\n"
      ],
      "execution_count": null,
      "outputs": []
    },
    {
      "cell_type": "code",
      "metadata": {
        "id": "yHDqJzXNaQSP"
      },
      "source": [
        "#df.loc[df['Year'] == 2017]"
      ],
      "execution_count": null,
      "outputs": []
    },
    {
      "cell_type": "markdown",
      "metadata": {
        "id": "CS9f_g77IoH5"
      },
      "source": [
        "#반드시 들어가야 하는 내용\n",
        "\n",
        "1. 지역에 따라서 선호하는 게임 장르가 다를까\n",
        "\n",
        "2. 연도별 게임의 트렌드가 있을까\n",
        "\n",
        "3. 출고량이 높은 게임에 대한 분석 및 시각화 프로세스"
      ]
    },
    {
      "cell_type": "code",
      "metadata": {
        "id": "Aw3FHe6UHHlP"
      },
      "source": [
        "df['total_Sales'] = df[['NA_Sales', 'EU_Sales', 'JP_Sales', 'Other_Sales']].sum(axis = 1)\n",
        "\n",
        "df"
      ],
      "execution_count": null,
      "outputs": []
    },
    {
      "cell_type": "code",
      "metadata": {
        "id": "-UPYrUK_4vIu"
      },
      "source": [
        "sns.boxplot(x = 'Year', y = 'total_Sales', data = df, whis = np.inf)\n",
        "sns.stripplot(x = 'Year', y = 'total_Sales', data = df, jitter = True, color = '0.4')\n",
        "plt.show()"
      ],
      "execution_count": null,
      "outputs": []
    },
    {
      "cell_type": "code",
      "metadata": {
        "id": "i7QB8MFNvots"
      },
      "source": [
        "q1 = df['total_Sales'].quantile(0.25)\n",
        "q2 = df['total_Sales'].quantile(0.75)\n",
        "iqr = q2 - q1\n",
        "\n",
        "condition2 = ((df['total_Sales'] > q2 + 3 * iqr) | (df['total_Sales'] < q1 - 3 * iqr))\n",
        "condition2 = df[condition2].index\n",
        "df2 = df.drop(condition2)\n",
        "df2.shape"
      ],
      "execution_count": null,
      "outputs": []
    },
    {
      "cell_type": "code",
      "metadata": {
        "id": "gbtDmiLEu0nd"
      },
      "source": [
        "plt.figure(figsize = (20,9))\n",
        "sns.boxplot(x = 'Year', y = 'total_Sales', data = df2, whis = np.inf)\n",
        "sns.stripplot(x = 'Year', y = 'total_Sales', hue = 'Genre', data = df2)\n",
        "plt.show()"
      ],
      "execution_count": null,
      "outputs": []
    },
    {
      "cell_type": "code",
      "metadata": {
        "id": "RHKaW7mQKeaX"
      },
      "source": [
        "df.loc[df['Year'] == 1992].sort_values('total_Sales', ascending= False)"
      ],
      "execution_count": null,
      "outputs": []
    },
    {
      "cell_type": "code",
      "metadata": {
        "id": "tVwZ55m13wWs"
      },
      "source": [
        "#Genre 기준으로 total_Sales 그래프..\n",
        "plt.figure(figsize = (20,9))\n",
        "df2[['Genre','total_Sales']].set_index('Genre', inplace = True)\n",
        "df3 = df2[['Genre', 'total_Sales']].set_index('Genre').groupby('Genre').sum('total_Sales').sort_values('total_Sales',ascending = False)\n"
      ],
      "execution_count": null,
      "outputs": []
    },
    {
      "cell_type": "code",
      "metadata": {
        "id": "63USmJxvIW6v"
      },
      "source": [
        "df3.plot(kind = 'pie', y = 'total_Sales', autopct = '%0.2f%%')\n",
        "plt.legend(df3.index, loc = 'center right', bbox_to_anchor = (1.2, 0, 0.5, 1))"
      ],
      "execution_count": null,
      "outputs": []
    },
    {
      "cell_type": "markdown",
      "metadata": {
        "id": "KP1pG2R2wDRV"
      },
      "source": [
        "# 지역에 따라 선호하는 게임 장르가 다를까\n"
      ]
    },
    {
      "cell_type": "code",
      "metadata": {
        "id": "czmM9jBNIPKt"
      },
      "source": [
        "#1) 데이터프레임 만들기\n",
        "df_Genre_Sales = df[['Genre', 'NA_Sales', 'EU_Sales', 'JP_Sales', 'Other_Sales']]\n",
        "df4 = df_Genre_Sales\n",
        "df4 = df4.groupby('Genre').sum()\n",
        "df4\n",
        "df10 = df4.sum(axis = 0)\n"
      ],
      "execution_count": null,
      "outputs": []
    },
    {
      "cell_type": "code",
      "metadata": {
        "id": "asEpYQesfC1f"
      },
      "source": [
        "\n",
        "plt.figure(figsize = (3,3))\n",
        "df10.plot(kind = 'pie', autopct = '%0.2f%%')\n"
      ],
      "execution_count": null,
      "outputs": []
    },
    {
      "cell_type": "code",
      "metadata": {
        "id": "Qua34y0zIPNI"
      },
      "source": [
        "#2) 카이제곱테스트\n",
        "chi_NA_EU = chi2_contingency(df4[['NA_Sales','EU_Sales']], correction = True)\n",
        "chi_NA_JP = chi2_contingency(df4[['NA_Sales','JP_Sales']], correction = True)\n",
        "chi_NA_Ot = chi2_contingency(df4[['NA_Sales','Other_Sales']], correction = True)\n",
        "chi_EU_JP = chi2_contingency(df4[['EU_Sales','JP_Sales']], correction = True)\n",
        "chi_EU_Ot = chi2_contingency(df4[['EU_Sales','Other_Sales']], correction = True)\n",
        "chi_JP_Ot = chi2_contingency(df4[['JP_Sales','Other_Sales']], correction = True)"
      ],
      "execution_count": null,
      "outputs": []
    },
    {
      "cell_type": "code",
      "metadata": {
        "id": "69KshH-JIPPe"
      },
      "source": [
        "chi_NA_EU # 지역과 선호하는 게임 사이 비율의 차이가 존재한다."
      ],
      "execution_count": null,
      "outputs": []
    },
    {
      "cell_type": "code",
      "metadata": {
        "id": "w-tCZHpJPe4d"
      },
      "source": [
        "chi_NA_JP"
      ],
      "execution_count": null,
      "outputs": []
    },
    {
      "cell_type": "code",
      "metadata": {
        "id": "MJT5WdguZI-h"
      },
      "source": [
        "chi_NA_Ot"
      ],
      "execution_count": null,
      "outputs": []
    },
    {
      "cell_type": "code",
      "metadata": {
        "id": "awuBl_SGZJBS"
      },
      "source": [
        "chi_EU_JP"
      ],
      "execution_count": null,
      "outputs": []
    },
    {
      "cell_type": "code",
      "metadata": {
        "id": "2Cxp5mxRZJDl"
      },
      "source": [
        "chi_EU_Ot #차이없음"
      ],
      "execution_count": null,
      "outputs": []
    },
    {
      "cell_type": "code",
      "metadata": {
        "id": "5QwK3RscZJFW"
      },
      "source": [
        "chi_JP_Ot"
      ],
      "execution_count": null,
      "outputs": []
    },
    {
      "cell_type": "markdown",
      "metadata": {
        "id": "wX499iW9wH7G"
      },
      "source": [
        "#연도별 게임의 트렌드가 있을까"
      ]
    },
    {
      "cell_type": "code",
      "metadata": {
        "id": "v0HRDLfL8bCp"
      },
      "source": [
        "#platform 분석\n",
        "# df_platform_trend = df[['Platform','Year','total_Sales']]\n",
        "# df_platform_trend2 = df_platform_trend.groupby(['Year','Platform']).sum()\n",
        "# df_platform_trend2 = df_platform_trend2.unstack()\n",
        "# dpt = df_platform_trend2\n",
        "# dpt = dpt.T.fillna(0)\n",
        "# dpt.reset_index(inplace = True)\n",
        "# dpt2 = dpt.iloc[:, 1:]\n",
        "# dpt2.set_index('Platform', inplace = True)\n",
        "# dpt_analysis = dpt2.iloc[:, 15 : 35]\n",
        "# dpt_analysis = dpt_analysis.T\n",
        "\n",
        "# plt.rcParams['figure.figsize'] = [20, 8]\n",
        "# sns.lineplot(data = dpt_analysis)\n",
        "\n",
        "# plt.show()"
      ],
      "execution_count": null,
      "outputs": []
    },
    {
      "cell_type": "code",
      "metadata": {
        "id": "Yfd8lpux9snZ"
      },
      "source": [],
      "execution_count": null,
      "outputs": []
    },
    {
      "cell_type": "code",
      "metadata": {
        "id": "h2rw5dSFKaWU"
      },
      "source": [
        "#1) 데이터프레임 만들기\n",
        "\n",
        "df_year_trend = df[['Genre', 'Year', 'total_Sales']]\n",
        "df_year_trend"
      ],
      "execution_count": null,
      "outputs": []
    },
    {
      "cell_type": "code",
      "metadata": {
        "id": "4NQzR5aqGcZw"
      },
      "source": [
        "df_year_trend2 = df_year_trend.groupby(['Year', 'Genre']).sum()\n",
        "# df_year_trend3 = pd.DataFrame(df_year_trend2.transform('total_Sales'))\n",
        "df_year_trend2 = df_year_trend2.unstack()"
      ],
      "execution_count": null,
      "outputs": []
    },
    {
      "cell_type": "code",
      "metadata": {
        "id": "BoGaKU7auMbB"
      },
      "source": [
        "dyt = df_year_trend2\n",
        "dyt = dyt.T.fillna(0)\n",
        "dyt"
      ],
      "execution_count": null,
      "outputs": []
    },
    {
      "cell_type": "code",
      "metadata": {
        "id": "h1vZGuxYKaY0"
      },
      "source": [
        "dyt.reset_index(inplace = True)\n",
        "dyt"
      ],
      "execution_count": null,
      "outputs": []
    },
    {
      "cell_type": "code",
      "metadata": {
        "id": "F6jciAomZJaW"
      },
      "source": [
        "dyt2 = dyt.iloc[:, 1:]\n",
        "dyt2"
      ],
      "execution_count": null,
      "outputs": []
    },
    {
      "cell_type": "code",
      "metadata": {
        "id": "a3fW9OQ0qC5M"
      },
      "source": [
        "dyt2.set_index('Genre', inplace = True)\n"
      ],
      "execution_count": null,
      "outputs": []
    },
    {
      "cell_type": "code",
      "metadata": {
        "id": "SWEoqRV_reP1"
      },
      "source": [
        "dyt2"
      ],
      "execution_count": null,
      "outputs": []
    },
    {
      "cell_type": "code",
      "metadata": {
        "id": "bMcgG2Gkvtu5"
      },
      "source": [
        "#chisquare 분석 / 의미가 있나 싶.. p-value 0.0\n",
        "\n",
        "chi2_contingency(dyt2, correction = True)\n"
      ],
      "execution_count": null,
      "outputs": []
    },
    {
      "cell_type": "code",
      "metadata": {
        "id": "_MurSHM8rgfK"
      },
      "source": [
        "dyt_1980 = dyt2.iloc[:, 0 : 10]\n",
        "dyt_1990 = dyt2.iloc[ :, 10: 20]\n",
        "dyt_2000 = dyt2.iloc[:, 20 : 30]\n",
        "dyt_2010 = dyt2.iloc[:, 30: ]"
      ],
      "execution_count": null,
      "outputs": []
    },
    {
      "cell_type": "code",
      "metadata": {
        "id": "Qo7ykgrsqC7X"
      },
      "source": [
        "sns.heatmap(dyt_1980, annot= True)"
      ],
      "execution_count": null,
      "outputs": []
    },
    {
      "cell_type": "code",
      "metadata": {
        "id": "b1OZbvquqDAB"
      },
      "source": [
        "sns.heatmap(dyt_1990, annot= True)"
      ],
      "execution_count": null,
      "outputs": []
    },
    {
      "cell_type": "code",
      "metadata": {
        "id": "hqOiCEoKqDCL"
      },
      "source": [
        "sns.heatmap(dyt_2000, annot= True)"
      ],
      "execution_count": null,
      "outputs": []
    },
    {
      "cell_type": "code",
      "metadata": {
        "id": "BDXs_OcQsRF6"
      },
      "source": [
        "sns.heatmap(dyt_2010, annot= True)"
      ],
      "execution_count": null,
      "outputs": []
    },
    {
      "cell_type": "code",
      "metadata": {
        "id": "7etQA887sRMo"
      },
      "source": [
        "dyt_analysis = dyt2.iloc[:, 15 : 36]\n",
        "dyt_analysis = dyt_analysis.T\n",
        "dyt_analysis"
      ],
      "execution_count": null,
      "outputs": []
    },
    {
      "cell_type": "code",
      "metadata": {
        "id": "bU-A2k30sRPA"
      },
      "source": [
        "plt.rcParams['figure.figsize'] = [20, 8]\n",
        "sns.lineplot(data = dyt_analysis)\n",
        "\n",
        "plt.show()\n",
        "\n",
        "#Action , Shooter 게임 출시"
      ],
      "execution_count": null,
      "outputs": []
    },
    {
      "cell_type": "code",
      "metadata": {
        "id": "brid9ze9ss6y"
      },
      "source": [
        "plt.rcParams['figure.figsize'] = [20, 8]\n",
        "sns.lineplot(data = dyt_analysis[['Action','Platform','Sports','Shooter']])\n",
        "\n",
        "plt.show()\n"
      ],
      "execution_count": null,
      "outputs": []
    },
    {
      "cell_type": "code",
      "metadata": {
        "id": "1YXkOVI6xOIS"
      },
      "source": [
        "#각년도에 판매된 게임 판매량으로 게임 장르별 상관관계를 봄. -> cluster 해봄.\n",
        "corr = dyt_analysis.corr()\n",
        "sns.clustermap(corr)"
      ],
      "execution_count": null,
      "outputs": []
    },
    {
      "cell_type": "code",
      "metadata": {
        "id": "w3FjltlEyJ7S"
      },
      "source": [
        "corr"
      ],
      "execution_count": null,
      "outputs": []
    },
    {
      "cell_type": "markdown",
      "metadata": {
        "id": "PzMWh2qowI8r"
      },
      "source": [
        "# 출고량이 높은 게임에 대한 분석 및 시각화 프로세스"
      ]
    },
    {
      "cell_type": "code",
      "metadata": {
        "id": "8KOICd7XsRRj"
      },
      "source": [
        "df"
      ],
      "execution_count": null,
      "outputs": []
    },
    {
      "cell_type": "code",
      "metadata": {
        "id": "Tis7pHYQDI4u"
      },
      "source": [
        "df.loc[df['Year'] > 2015]"
      ],
      "execution_count": null,
      "outputs": []
    },
    {
      "cell_type": "code",
      "metadata": {
        "id": "Ikg3IX3usRTb"
      },
      "source": [
        "df2 = df[['Name', 'total_Sales']]\n",
        "df_top_game = df2.groupby('Name').sum()"
      ],
      "execution_count": null,
      "outputs": []
    },
    {
      "cell_type": "code",
      "metadata": {
        "id": "2lzsFtIGwPT1"
      },
      "source": [
        "df_top_game.sort_values('total_Sales', ascending = False, inplace = True)\n",
        "df_top_game"
      ],
      "execution_count": null,
      "outputs": []
    },
    {
      "cell_type": "code",
      "metadata": {
        "id": "I2edIkF3wPV5"
      },
      "source": [
        "names = df_top_game.head(20)\n",
        "df_top_game_info = df.loc[df['Name'].isin(names.index) == True]\n",
        "names['Year'] = [2006, 2013, 1985, 1988, 2008, 2009, 1996, 2011, 2006, 2012, 2010, 2006, 2009, 1984, 2013, 1990, 2015, 2009, 2005, 2013]\n",
        "names['Publisher'] = ['Nintendo', 'Take-Two Interactive', 'Nintendo', 'Nintendo', 'Nintendo','Nintendo', 'Nintendo', 'Activision','Nintendo','Activision', 'Activision', 'Nintendo', 'Nintendo', 'Nintendo','Activision', 'Nintendo', 'Activision', 'Activision', 'Nintendo','Take-Two Interactive']\n",
        "names['Genre'] = ['Sports', 'Action','Platform', 'Puzzle','Racing','Sports', 'Role-Playing', 'Shooter', 'Platform','Shooter','Shooter','Misc','Platform','Shooter','Shooter','Platform','Shooter','Shooter','Simulation','Action']\n",
        "names['Platform'] = ['Wii','XOne, X360, PS4, PS3, PC', 'NES,GB','NES, GB', 'Wii','Wii', 'GB', 'PC, PS3, X360, Wii', 'DS','WiiU, X360, PC, PS3', 'X369, DS, PS3, Wii','Wii','Wii','NES','PS3,X360,PS4,XOne, WiiU, PC','GBA, SNES', 'PS3, X360, XOne, PC, PS4', 'PS3, X360, PC', 'DS', 'XB, PC, X360, PS2']\n",
        "df_top_game = names\n",
        "df_top_game_platform = df_top_game[[ 'Year', 'Platform', 'Publisher', 'Genre', 'total_Sales']]\n",
        "df_top_game_platform"
      ],
      "execution_count": null,
      "outputs": []
    },
    {
      "cell_type": "code",
      "metadata": {
        "id": "4qnyZf5WwPdX"
      },
      "source": [
        "df_top_game_info = df_top_game_info.sort_values('total_Sales', ascending = False)\n",
        "\n",
        "df_top_game_info.sort_values('Name')"
      ],
      "execution_count": null,
      "outputs": []
    },
    {
      "cell_type": "code",
      "metadata": {
        "id": "N2ysvP00oXDx"
      },
      "source": [
        "sns.pairplot(data = df_top_game)"
      ],
      "execution_count": null,
      "outputs": []
    },
    {
      "cell_type": "code",
      "metadata": {
        "id": "3o8ZTjzcxMsp"
      },
      "source": [
        "#total_Sales를 기준으로\n",
        "plt.figure(figsize = (20,9))\n",
        "df_top_game.plot(kind= 'pie', y = 'total_Sales', autopct = '%0.2f%%')\n",
        "plt.legend(df_top_game.index, loc = 'center right', bbox_to_anchor = (1.3, 0, 0.5, 1))\n",
        "df_top_game.head(10).plot(kind= 'pie', y = 'total_Sales', autopct = '%0.2f%%')\n",
        "plt.legend(df_top_game.index, loc = 'center right', bbox_to_anchor = (1.3, 0, 0.5, 1))"
      ],
      "execution_count": null,
      "outputs": []
    },
    {
      "cell_type": "code",
      "metadata": {
        "id": "cZBhhO2octZP"
      },
      "source": [
        "#total_sales 기준으로 publisher 파이그래프 그리기\n",
        "df_top_game[['Publisher', 'total_Sales']].set_index('Publisher').groupby('Publisher').sum('total_Sales').plot(kind = 'pie', y = 'total_Sales',  autopct = '%0.2f%%')"
      ],
      "execution_count": null,
      "outputs": []
    },
    {
      "cell_type": "code",
      "metadata": {
        "id": "OauG4YZ0ctbz"
      },
      "source": [
        "#Genre 기준으로\n",
        "df_top_game[['Genre','total_Sales']].set_index('Genre').groupby('Genre').sum('total_Sales').plot(kind = 'pie', y = 'total_Sales', autopct = '%0.2f%%')\n",
        "plt.legend(df_top_game.Genre, loc = 'center right', bbox_to_anchor = (1, 0, 0.5, 1))"
      ],
      "execution_count": null,
      "outputs": []
    },
    {
      "cell_type": "markdown",
      "metadata": {
        "id": "Kk8T4CDagj0T"
      },
      "source": [
        "#일본 포함하지 않는다면"
      ]
    },
    {
      "cell_type": "code",
      "metadata": {
        "id": "83xD7fnQgnHp"
      },
      "source": [
        "data4"
      ],
      "execution_count": null,
      "outputs": []
    },
    {
      "cell_type": "code",
      "metadata": {
        "id": "suTPTmTxgxL3"
      },
      "source": [
        "df_year_trend_notJP = data4[['Genre', 'Year', 'total_Sales_notJP']]\n",
        "df_year_trend_notJP"
      ],
      "execution_count": null,
      "outputs": []
    },
    {
      "cell_type": "code",
      "metadata": {
        "id": "JFZFGZ6DgxO-"
      },
      "source": [
        "df_year_trend_notJP = df_year_trend_notJP.groupby(['Year', 'Genre']).sum()\n",
        "# df_year_trend3 = pd.DataFrame(df_year_trend2.transform('total_Sales'))\n",
        "df_year_trend_notJP = df_year_trend_notJP.unstack()\n"
      ],
      "execution_count": null,
      "outputs": []
    },
    {
      "cell_type": "code",
      "metadata": {
        "id": "zfymrTxSgxRB"
      },
      "source": [
        "dyt_notJP = df_year_trend_notJP\n",
        "dyt_notJP = dyt_notJP.T.fillna(0)\n",
        "dyt_notJP.reset_index(inplace = True)"
      ],
      "execution_count": null,
      "outputs": []
    },
    {
      "cell_type": "code",
      "metadata": {
        "id": "_xsZxlKPgxVn"
      },
      "source": [
        "dyt_notJP = dyt_notJP.iloc[:, 1:]"
      ],
      "execution_count": null,
      "outputs": []
    },
    {
      "cell_type": "code",
      "metadata": {
        "id": "ZP9mEgxigxX9"
      },
      "source": [
        "dyt_notJP.set_index('Genre', inplace = True)\n",
        "dyt_notJP"
      ],
      "execution_count": null,
      "outputs": []
    },
    {
      "cell_type": "code",
      "metadata": {
        "id": "pu7Q8kztgxaN"
      },
      "source": [
        "dyt_analysis_notJP = dyt_notJP.iloc[:, 15 : 36]\n",
        "dyt_analysis_notJP = dyt_analysis_notJP.T\n",
        "dyt_analysis_notJP"
      ],
      "execution_count": null,
      "outputs": []
    },
    {
      "cell_type": "code",
      "metadata": {
        "id": "tXtywPjdhRSP"
      },
      "source": [
        "plt.rcParams['figure.figsize'] = [20, 8]\n",
        "sns.lineplot(data = dyt_analysis_notJP)\n",
        "\n",
        "plt.show()\n",
        "\n",
        "#Action , Shooter 게임 출시"
      ],
      "execution_count": null,
      "outputs": []
    },
    {
      "cell_type": "code",
      "metadata": {
        "id": "791uK9KotERA"
      },
      "source": [
        "plt.rcParams['figure.figsize'] = [20, 8]\n",
        "sns.lineplot(data = dyt_analysis_notJP[['Action','Platform','Sports','Shooter']])\n",
        "\n",
        "plt.show()\n"
      ],
      "execution_count": null,
      "outputs": []
    },
    {
      "cell_type": "code",
      "metadata": {
        "id": "7kFOIsuCh01M"
      },
      "source": [
        "df_notJP = data4[['Name', 'total_Sales_notJP']]\n",
        "df_top_game_notJP = df_notJP.groupby('Name').sum()"
      ],
      "execution_count": null,
      "outputs": []
    },
    {
      "cell_type": "code",
      "metadata": {
        "id": "dp39JUA-h1dA"
      },
      "source": [
        "df_top_game_notJP.sort_values('total_Sales_notJP', ascending = False, inplace = True)\n",
        "name_notJP = df_top_game_notJP.head(20)\n",
        "name_notJP['Genre'] = ['Sports', 'Action','Platform', 'Racing', 'Shooter','Puzzle','Sports','Shooter','Shooter','Shooter','Shooter','Misc','Shooter','Shooter','Platform','Platform','Action','Simulation','Misc','Platform']\n",
        "name_notJP = pd.DataFrame(name_notJP)\n",
        "name_notJP"
      ],
      "execution_count": null,
      "outputs": []
    },
    {
      "cell_type": "code",
      "metadata": {
        "id": "WGqFSse2lz3b"
      },
      "source": [
        "# df_top_game_info_notJP = df.loc[df['Name'].isin(name_notJP.index) == True]\n",
        "# df_top_game_info_notJP"
      ],
      "execution_count": null,
      "outputs": []
    },
    {
      "cell_type": "code",
      "metadata": {
        "id": "R83pr24chRUu"
      },
      "source": [
        "#일본 제외 top20개의 게임에 대한 장르별 비율\n",
        "name_notJP[['Genre','total_Sales_notJP']].set_index('Genre').groupby('Genre').sum('total_Sales_notJP').plot(kind = 'pie', y = 'total_Sales_notJP', autopct = '%0.2f%%')\n",
        "\n",
        "plt.legend(name_notJP.Genre, loc = 'center right', bbox_to_anchor = (1, 0, 0.5, 1))"
      ],
      "execution_count": null,
      "outputs": []
    },
    {
      "cell_type": "code",
      "metadata": {
        "id": "focgW_eAmPy2"
      },
      "source": [
        "#일본제외 전체 판매량에 대한 비율\n",
        "data5 = data4[['Genre', 'total_Sales_notJP']].set_index('Genre').groupby('Genre').sum('total_Sales_notJP').sort_values('total_Sales_notJP',ascending = False)\n",
        "data5.plot(kind = 'pie', y = 'total_Sales_notJP', autopct = '%0.2f%%')\n",
        "plt.legend(data5.index, loc = 'center right', bbox_to_anchor = (0.9, 0, 0.5, 1))"
      ],
      "execution_count": null,
      "outputs": []
    },
    {
      "cell_type": "markdown",
      "metadata": {
        "id": "s0Cg9WqGuT6R"
      },
      "source": [
        "#onlyJP"
      ]
    },
    {
      "cell_type": "code",
      "metadata": {
        "id": "LUdBjUqSuW4B"
      },
      "source": [
        "df_year_trend_onlyJP = data4[['Genre', 'Year', 'JP_Sales']]\n",
        "df_year_trend_onlyJP"
      ],
      "execution_count": null,
      "outputs": []
    },
    {
      "cell_type": "code",
      "metadata": {
        "id": "UuB3WRjBuW6z"
      },
      "source": [
        "df_year_trend_onlyJP = df_year_trend_onlyJP.groupby(['Year', 'Genre']).sum()\n",
        "# df_year_trend3 = pd.DataFrame(df_year_trend2.transform('total_Sales'))\n",
        "df_year_trend_onlyJP = df_year_trend_onlyJP.unstack()"
      ],
      "execution_count": null,
      "outputs": []
    },
    {
      "cell_type": "code",
      "metadata": {
        "id": "rrZqcXGcuW-e"
      },
      "source": [
        "dyt_onlyJP = df_year_trend_onlyJP\n",
        "dyt_onlyJP = dyt_onlyJP.T.fillna(0)\n",
        "dyt_onlyJP.reset_index(inplace = True)"
      ],
      "execution_count": null,
      "outputs": []
    },
    {
      "cell_type": "code",
      "metadata": {
        "id": "AvBPZ1G_uXBA"
      },
      "source": [
        "dyt_onlyJP = dyt_onlyJP.iloc[:, 1:]"
      ],
      "execution_count": null,
      "outputs": []
    },
    {
      "cell_type": "code",
      "metadata": {
        "id": "kFYx89mquXEF"
      },
      "source": [
        "dyt_onlyJP.set_index('Genre', inplace = True)\n",
        "dyt_onlyJP"
      ],
      "execution_count": null,
      "outputs": []
    },
    {
      "cell_type": "code",
      "metadata": {
        "id": "cliLB5oIuXGb"
      },
      "source": [
        "dyt_analysis_onlyJP = dyt_onlyJP.iloc[:, 15 : 36]\n",
        "dyt_analysis_onlyJP = dyt_analysis_onlyJP.T\n",
        "dyt_analysis_onlyJP"
      ],
      "execution_count": null,
      "outputs": []
    },
    {
      "cell_type": "code",
      "metadata": {
        "id": "zYnybqLeuXJA"
      },
      "source": [
        "plt.rcParams['figure.figsize'] = [20, 8]\n",
        "sns.lineplot(data = dyt_analysis_onlyJP[['Action','Platform','Sports','Role-Playing']])\n",
        "\n",
        "plt.show()\n"
      ],
      "execution_count": null,
      "outputs": []
    },
    {
      "cell_type": "code",
      "metadata": {
        "id": "xPriPMYruXK5"
      },
      "source": [
        "corrJP = dyt_analysis_onlyJP.corr()\n",
        "sns.clustermap(corrJP)"
      ],
      "execution_count": null,
      "outputs": []
    },
    {
      "cell_type": "code",
      "metadata": {
        "id": "UrSY13IRuXMr"
      },
      "source": [
        "df3 = df[['Name', 'JP_Sales']]\n",
        "df_top_game_onlyJP = df3.groupby('Name').sum()\n",
        "df_top_game_onlyJP.sort_values('JP_Sales', ascending = False, inplace = True)\n",
        "df_top_game_onlyJP"
      ],
      "execution_count": null,
      "outputs": []
    },
    {
      "cell_type": "code",
      "metadata": {
        "id": "DXDNGT6SyANx"
      },
      "source": [
        "names_onlyJP = df_top_game_onlyJP.head(20)\n",
        "df_top_game_onlyJP_info = df.loc[df['Name'].isin(names_onlyJP.index) == True]\n",
        "names_onlyJP['Genre'] = ['Role-Playing','Role-Playing','Platform','Platform','Role-Playing','Puzzle','Role-Playing','Role-Playing','Simulation','Puzzle','Role-Playing','Role-Playing','Platform','Platform', 'Role-Playing','Platform','Role-Playing','Role-Playing','Simulation','Role-Playing']"
      ],
      "execution_count": null,
      "outputs": []
    },
    {
      "cell_type": "code",
      "metadata": {
        "id": "4aQGTtZlyVHd"
      },
      "source": [
        "names_onlyJP"
      ],
      "execution_count": null,
      "outputs": []
    },
    {
      "cell_type": "code",
      "metadata": {
        "id": "0541NCNO0nd4"
      },
      "source": [
        "df_top_game_onlyJP_info.sort_values('Name')"
      ],
      "execution_count": null,
      "outputs": []
    },
    {
      "cell_type": "code",
      "metadata": {
        "id": "2rcwYrbyFKul"
      },
      "source": [
        "#2015년 일본에서 Action 게임 급 흥행 탑 10\n",
        "df_JP_Action = df.loc[(df['Year'] == 2015) & (df['Genre'] == 'Action')]\n",
        "df_JP_Action.groupby('Name').sum('JP_Sales').sort_values('JP_Sales', ascending = False).head(10)"
      ],
      "execution_count": null,
      "outputs": []
    },
    {
      "cell_type": "code",
      "metadata": {
        "id": "JpSdovMl5sev"
      },
      "source": [
        "#top20 게임에 대한 파이그래프\n",
        "names_onlyJP[['Genre','JP_Sales']].set_index('Genre').groupby('Genre').sum('JP_Sales').plot(kind = 'pie', y = 'JP_Sales', autopct = '%0.2f%%')\n",
        "\n",
        "plt.legend(names_onlyJP.index, loc = 'center right', bbox_to_anchor = (1, 0, 0.5, 1))"
      ],
      "execution_count": null,
      "outputs": []
    },
    {
      "cell_type": "code",
      "metadata": {
        "id": "uppeYJA0RhEt"
      },
      "source": [
        "data6 = data4[['Genre', 'JP_Sales']].set_index('Genre').groupby('Genre').sum('JP_Sales').sort_values('JP_Sales',ascending = False)\n",
        "data6.plot(kind = 'pie', y = 'JP_Sales', autopct = '%0.2f%%')\n",
        "plt.legend(data6.index, loc = 'center right', bbox_to_anchor = (0.9, 0, 0.5, 1))"
      ],
      "execution_count": null,
      "outputs": []
    },
    {
      "cell_type": "markdown",
      "metadata": {
        "id": "iuKercuk-TzC"
      },
      "source": [
        "#연습"
      ]
    },
    {
      "cell_type": "code",
      "metadata": {
        "id": "CLNQAYUenxxG"
      },
      "source": [
        "# def str_replace(x):\n",
        "#     x = x.replace('M', '')\n",
        "#     x = x.replace('K', '')\n",
        "#     return x\n",
        "# #M, K 들어가 있는 거 말고 다른 값에 대해서 else: 로 빼둬야됨....ㅠ 개삽질.. ㅠ\n",
        "\n",
        "# s1 = str_replace('3.5K')\n",
        "# type(s1)"
      ],
      "execution_count": null,
      "outputs": []
    },
    {
      "cell_type": "code",
      "metadata": {
        "id": "hwOc74E_-Vhj"
      },
      "source": [],
      "execution_count": null,
      "outputs": []
    },
    {
      "cell_type": "code",
      "metadata": {
        "id": "3BNXIYF2sQR5"
      },
      "source": [],
      "execution_count": null,
      "outputs": []
    }
  ]
}